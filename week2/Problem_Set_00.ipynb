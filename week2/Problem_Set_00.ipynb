{
  "cells": [
    {
      "cell_type": "markdown",
      "id": "aEi4As4RJ80T",
      "metadata": {
        "id": "aEi4As4RJ80T"
      },
      "source": [
        "# Problem Set 00\n",
        "\n",
        "**Rules:** Solve each function using only **variables**, **basic math** (`+ - * / // % **`), **comparisons**, and **`if/elif/else`**.\n",
        "Avoid loops and advanced features. Think on **paper first**, then code the short solution.\n"
      ]
    },
    {
      "cell_type": "markdown",
      "id": "Ev21zyM6J80W",
      "metadata": {
        "id": "Ev21zyM6J80W"
      },
      "source": [
        "## 1) Next Bus (Multiples of 5)\n",
        "**Input:** integer `m` (0…10^9), the current minute of the hour.\n",
        "\n",
        "**Output:** minutes to wait until the next departure (0…4). Buses leave at minutes divisible by 5."
      ]
    },
    {
      "cell_type": "markdown",
      "id": "dLXQf7UwXvmI",
      "metadata": {
        "id": "dLXQf7UwXvmI"
      },
      "source": []
    },
    {
      "cell_type": "code",
      "execution_count": null,
      "id": "fVLTh_69J80X",
      "metadata": {
        "id": "fVLTh_69J80X"
      },
      "outputs": [],
      "source": [
        "def next_bus_wait(m: int) -> int:\n",
        "    \"\"\"Return wait time until next multiple-of-5 minute (0..4).\"\"\"\n",
        "    # TODO: arithmetic only (no loops).\n",
        "    answer = 0  # Dummy variable\n",
        "    return answer"
      ]
    },
    {
      "cell_type": "code",
      "execution_count": null,
      "id": "WyWPJUv6J80Y",
      "metadata": {
        "id": "WyWPJUv6J80Y"
      },
      "outputs": [],
      "source": [
        "#@title ✅ Tests: Next Bus\n",
        "def _ae(a, b): assert a == b, f\"Expected {b}, got {a}\"\n",
        "_ae(next_bus_wait(0), 0)\n",
        "_ae(next_bus_wait(1), 4)\n",
        "_ae(next_bus_wait(5), 0)\n",
        "_ae(next_bus_wait(59), 1)\n",
        "_ae(next_bus_wait(37), 3)\n",
        "print(\"OK\")\n"
      ]
    },
    {
      "cell_type": "markdown",
      "id": "x22ZymHKJ80Z",
      "metadata": {
        "id": "x22ZymHKJ80Z"
      },
      "source": [
        "## 2) Nearest Multiple of 10 (Round, ties up)\n",
        "**Input:** integer `n` (can be negative).\n",
        "\n",
        "**Output:** the multiple of 10 nearest to `n`. If exactly in the middle (e.g., 15 or -15), round **up** (to 20 or -10)."
      ]
    },
    {
      "cell_type": "code",
      "execution_count": null,
      "id": "Omyw9P3hJ80Z",
      "metadata": {
        "id": "Omyw9P3hJ80Z"
      },
      "outputs": [],
      "source": [
        "def nearest_multiple_of_10(n: int) -> int:\n",
        "    \"\"\"Return nearest multiple of 10; ties go upward (toward +∞).\"\"\"\n",
        "    # TODO: use arithmetic and comparisons only.\n",
        "    return 0"
      ]
    },
    {
      "cell_type": "code",
      "execution_count": null,
      "id": "9-osiw5pJ80a",
      "metadata": {
        "id": "9-osiw5pJ80a"
      },
      "outputs": [],
      "source": [
        "#@title ✅ Tests: Nearest Multiple of 10\n",
        "def _ae(a, b): assert a == b, f\"Expected {b}, got {a}\"\n",
        "_ae(nearest_multiple_of_10(0), 0)\n",
        "_ae(nearest_multiple_of_10(13), 10)\n",
        "_ae(nearest_multiple_of_10(15), 20)   # tie up\n",
        "_ae(nearest_multiple_of_10(-13), -10)\n",
        "_ae(nearest_multiple_of_10(-15), -10) # tie up (toward +∞)\n",
        "print(\"OK\")\n"
      ]
    },
    {
      "cell_type": "markdown",
      "id": "QuPArJ9DJ80a",
      "metadata": {
        "id": "QuPArJ9DJ80a"
      },
      "source": [
        "## 3) Divisible by 3 without loops (three-digit)\n",
        "**Input:** a three-digit integer `n` (100…999).\n",
        "\n",
        "**Task:** Compute sum of its digits using arithmetic and print `\"YES\"` if divisible by 3, else `\"NO\"`."
      ]
    },
    {
      "cell_type": "code",
      "execution_count": null,
      "id": "bU3N1ZVLJ80a",
      "metadata": {
        "id": "bU3N1ZVLJ80a"
      },
      "outputs": [],
      "source": [
        "def divisible_by_3_three_digit(n: int) -> str:\n",
        "    \"\"\"Return 'YES' if sum of digits of three-digit n is divisible by 3, else 'NO'.\"\"\"\n",
        "    # TODO: extract digits with // and %; no strings.\n",
        "    return \"\""
      ]
    },
    {
      "cell_type": "code",
      "execution_count": null,
      "id": "DyR5UoGDJ80b",
      "metadata": {
        "id": "DyR5UoGDJ80b"
      },
      "outputs": [],
      "source": [
        "#@title ✅ Tests: Divisible by 3 (three-digit)\n",
        "def _ae(a, b): assert a == b, f\"Expected {b}, got {a}\"\n",
        "_ae(divisible_by_3_three_digit(123), \"YES\")  # 1+2+3=6\n",
        "_ae(divisible_by_3_three_digit(100), \"NO\")   # 1\n",
        "_ae(divisible_by_3_three_digit(999), \"YES\")  # 27\n",
        "_ae(divisible_by_3_three_digit(458), \"NO\")   # 17\n",
        "print(\"OK\")\n"
      ]
    },
    {
      "cell_type": "markdown",
      "id": "n620JYdKJ80b",
      "metadata": {
        "id": "n620JYdKJ80b"
      },
      "source": [
        "## 4) Minutes to Midnight\n",
        "**Input:** `h` (0…23), `m` (0…59).\n",
        "\n",
        "**Output:** minutes from `h:m` to `00:00` of the next day (0 means already midnight)."
      ]
    },
    {
      "cell_type": "code",
      "execution_count": null,
      "id": "Po6k3r9WJ80b",
      "metadata": {
        "id": "Po6k3r9WJ80b"
      },
      "outputs": [],
      "source": [
        "def minutes_to_midnight(h: int, m: int) -> int:\n",
        "    \"\"\"Return minutes from (h:m) to next day's 00:00.\"\"\"\n",
        "    # TODO: think total minutes in a day and wrap-around.\n",
        "    return 0"
      ]
    },
    {
      "cell_type": "code",
      "execution_count": null,
      "id": "x6R3FooGJ80b",
      "metadata": {
        "id": "x6R3FooGJ80b"
      },
      "outputs": [],
      "source": [
        "#@title ✅ Tests: Minutes to Midnight\n",
        "def _ae(a, b): assert a == b, f\"Expected {b}, got {a}\"\n",
        "_ae(minutes_to_midnight(0, 0), 0)\n",
        "_ae(minutes_to_midnight(23, 59), 1)\n",
        "_ae(minutes_to_midnight(12, 0), 12*60)\n",
        "_ae(minutes_to_midnight(7, 30), (24*60) - (7*60 + 30))\n",
        "print(\"OK\")\n"
      ]
    },
    {
      "cell_type": "markdown",
      "id": "YwAeLADIJ80c",
      "metadata": {
        "id": "YwAeLADIJ80c"
      },
      "source": [
        "## 5) Interval Overlap Length (closed intervals, unordered inputs)\n",
        "Two closed intervals: `[a, b]` and `[c, d]` (endpoints may be reversed).\n",
        "\n",
        "**Input:** integers `a, b, c, d`.\n",
        "\n",
        "**Output:** the integer length of their overlap (0 if none).\n",
        "\n",
        "**Constraint:** do it with comparisons & `if/else` (avoid built-in `min/max`)."
      ]
    },
    {
      "cell_type": "code",
      "execution_count": null,
      "id": "CyAasAnPJ80c",
      "metadata": {
        "id": "CyAasAnPJ80c"
      },
      "outputs": [],
      "source": [
        "def interval_overlap_length(a: int, b: int, c: int, d: int) -> int:\n",
        "    \"\"\"Return overlap length of closed intervals [a,b] and [c,d], inputs may be unordered.\"\"\"\n",
        "    # TODO: normalize each interval to (L<=R), then compute overlap length.\n",
        "    answer = 0  # Dummy variable\n",
        "    return answer"
      ]
    },
    {
      "cell_type": "code",
      "execution_count": null,
      "id": "516lr6R7J80c",
      "metadata": {
        "id": "516lr6R7J80c"
      },
      "outputs": [],
      "source": [
        "#@title ✅ Tests: Interval Overlap Length\n",
        "def _ae(a, b): assert a == b, f\"Expected {b}, got {a}\"\n",
        "_ae(interval_overlap_length(0, 10, 5, 15), 5)\n",
        "_ae(interval_overlap_length(10, 0, 15, 5), 5)   # reversed both\n",
        "_ae(interval_overlap_length(0, 5, 6, 9), 0)\n",
        "_ae(interval_overlap_length(-3, 1, -1, 2), 2)\n",
        "_ae(interval_overlap_length(2, 2, 2, 2), 0)     # single-point touch => length 0\n",
        "print(\"OK\")\n"
      ]
    },
    {
      "cell_type": "markdown",
      "id": "ojBPqd-LJ80c",
      "metadata": {
        "id": "ojBPqd-LJ80c"
      },
      "source": [
        "## 6) Which Point is Closer?\n",
        "**Input:** integers `x1, y1, x2, y2`.\n",
        "\n",
        "**Output:** `\"A\"` if A(`x1`,`y1`) is closer to origin than B(`x2`,`y2`), `\"B\"` if B is closer, `\"TIE\"` if equal.\n",
        "\n",
        "**Hint:** Compare squared distances to avoid roots."
      ]
    },
    {
      "cell_type": "code",
      "execution_count": null,
      "id": "FkKFRiP4J80c",
      "metadata": {
        "id": "FkKFRiP4J80c"
      },
      "outputs": [],
      "source": [
        "def closer_point_label(x1: int, y1: int, x2: int, y2: int) -> str:\n",
        "    \"\"\"Return 'A', 'B', or 'TIE' based on closeness to origin (use squared distance).\"\"\"\n",
        "    # TODO: use arithmetic and comparisons; no loops.\n",
        "    answer = \"\"  # Dummy variable\n",
        "    return answer"
      ]
    },
    {
      "cell_type": "code",
      "execution_count": null,
      "id": "XddSya74J80c",
      "metadata": {
        "id": "XddSya74J80c"
      },
      "outputs": [],
      "source": [
        "#@title ✅ Tests: Which Point is Closer?\n",
        "def _ae(a, b): assert a == b, f\"Expected {b}, got {a}\"\n",
        "_ae(closer_point_label(0,0,1,0), \"A\")           # 0 vs 1\n",
        "_ae(closer_point_label(3,4,6,8), \"A\")           # 25 vs 100\n",
        "_ae(closer_point_label(-2,-3,3,0), \"B\")         # 13 vs 9 -> B is closer\n",
        "_ae(closer_point_label(2,2,-2,-2), \"TIE\")       # 8 vs 8\n",
        "print(\"OK\")\n"
      ]
    },
    {
      "cell_type": "markdown",
      "id": "f8fckqTmJ80c",
      "metadata": {
        "id": "f8fckqTmJ80c"
      },
      "source": [
        "## 7) Exact Packs (6 & 8)\n",
        "Donuts come in boxes of 6 and 8.\n",
        "\n",
        "**Input:** integer `n` (0…10^9).\n",
        "\n",
        "**Output:** `\"POSSIBLE\"` if `n` can be formed exactly using 6s and 8s, else `\"IMPOSSIBLE\"`.\n",
        "\n",
        "**Hint:** Reason about small even numbers; identify exceptions."
      ]
    },
    {
      "cell_type": "code",
      "execution_count": null,
      "id": "DtqDg7TGJ80c",
      "metadata": {
        "id": "DtqDg7TGJ80c"
      },
      "outputs": [],
      "source": [
        "def exact_packs_6_8(n: int) -> str:\n",
        "    \"\"\"Return 'POSSIBLE' if n = 6a + 8b for some nonneg ints a,b; else 'IMPOSSIBLE'.\"\"\"\n",
        "    # TODO: arithmetic + if/else only.\n",
        "    answer = \"\"  # Dummy variable\n",
        "    return answer"
      ]
    },
    {
      "cell_type": "code",
      "execution_count": null,
      "id": "Y9Cvvl8vJ80c",
      "metadata": {
        "id": "Y9Cvvl8vJ80c"
      },
      "outputs": [],
      "source": [
        "#@title ✅ Tests: Exact Packs (6 & 8)\n",
        "def _ae(a, b): assert a == b, f\"Expected {b}, got {a}\"\n",
        "_ae(exact_packs_6_8(0), \"POSSIBLE\")\n",
        "_ae(exact_packs_6_8(1), \"IMPOSSIBLE\")\n",
        "_ae(exact_packs_6_8(6), \"POSSIBLE\")\n",
        "_ae(exact_packs_6_8(8), \"POSSIBLE\")\n",
        "_ae(exact_packs_6_8(10), \"IMPOSSIBLE\")\n",
        "_ae(exact_packs_6_8(14), \"POSSIBLE\")   # 6+8\n",
        "_ae(exact_packs_6_8(22), \"POSSIBLE\")   # 6+16\n",
        "_ae(exact_packs_6_8(4), \"IMPOSSIBLE\")\n",
        "print(\"OK\")\n"
      ]
    },
    {
      "cell_type": "markdown",
      "id": "yxxjjnUuJ80c",
      "metadata": {
        "id": "yxxjjnUuJ80c"
      },
      "source": [
        "## 8) Cheaper Phone Plan\n",
        "Two plans for a call lasting `t` minutes (integer `t ≥ 0`):\n",
        "\n",
        "- **Plan A:** 10 MAD base + 3 MAD per **started** 10 minutes.\n",
        "- **Plan B:** 0 base + 4 MAD per **started** 7 minutes.\n",
        "\n",
        "**Output:** `\"A\"`, `\"B\"`, or `\"TIE\"` for the cheaper cost.\n",
        "*Started block* = round up with integer math."
      ]
    },
    {
      "cell_type": "code",
      "execution_count": null,
      "id": "D-IUNXLZJ80d",
      "metadata": {
        "id": "D-IUNXLZJ80d"
      },
      "outputs": [],
      "source": [
        "def cheaper_phone_plan(t: int) -> str:\n",
        "    \"\"\"Return 'A', 'B', or 'TIE' for given duration t >= 0.\"\"\"\n",
        "    # TODO: use only integer arithmetic, comparisons, and if/else.\n",
        "    answer = \"\"  # Dummy variable\n",
        "    return answer"
      ]
    },
    {
      "cell_type": "code",
      "execution_count": null,
      "id": "tGsCIbYzJ80d",
      "metadata": {
        "id": "tGsCIbYzJ80d"
      },
      "outputs": [],
      "source": [
        "#@title ✅ Tests: Cheaper Phone Plan\n",
        "def _ae(a, b): assert a == b, f\"Expected {b}, got {a}\"\n",
        "_ae(cheaper_phone_plan(0), \"B\")      # 0 vs 10\n",
        "_ae(cheaper_phone_plan(1), \"B\")      # A: 13, B: 4\n",
        "_ae(cheaper_phone_plan(7), \"B\")      # A: 13, B: 4\n",
        "_ae(cheaper_phone_plan(10), \"B\")     # A: 13, B: 8\n",
        "_ae(cheaper_phone_plan(20), \"B\")     # A: 16, B: 12 -> B\n",
        "_ae(cheaper_phone_plan(30), \"A\")     # A: 19, B: 20 -> A\n",
        "print(\"OK\")\n"
      ]
    },
    {
      "cell_type": "markdown",
      "id": "cITikSBkJ80d",
      "metadata": {
        "id": "cITikSBkJ80d"
      },
      "source": [
        "## 9) Median of Three (No sort)\n",
        "**Input:** integers `a, b, c`.\n",
        "\n",
        "**Output:** the **middle** value using only comparisons and `if/elif/else`."
      ]
    },
    {
      "cell_type": "code",
      "execution_count": null,
      "id": "mlBm3rMzJ80d",
      "metadata": {
        "id": "mlBm3rMzJ80d"
      },
      "outputs": [],
      "source": [
        "def median_of_three(a: int, b: int, c: int) -> int:\n",
        "    \"\"\"Return the median (middle value) of a,b,c using only if/elif/else.\"\"\"\n",
        "    # TODO: comparisons only; handle equalities cleanly.\n",
        "    answer = 0  # Dummy variable\n",
        "    return answer"
      ]
    },
    {
      "cell_type": "code",
      "execution_count": null,
      "id": "GEdPQ8ETJ80d",
      "metadata": {
        "id": "GEdPQ8ETJ80d"
      },
      "outputs": [],
      "source": [
        "#@title ✅ Tests: Median of Three\n",
        "def _ae(a, b): assert a == b, f\"Expected {b}, got {a}\"\n",
        "_ae(median_of_three(1, 2, 3), 2)\n",
        "_ae(median_of_three(3, 2, 1), 2)\n",
        "_ae(median_of_three(2, 1, 3), 2)\n",
        "_ae(median_of_three(2, 2, 5), 2)\n",
        "_ae(median_of_three(7, 7, 7), 7)\n",
        "_ae(median_of_three(-1, 10, 0), 0)\n",
        "print(\"OK\")\n"
      ]
    },
    {
      "cell_type": "markdown",
      "id": "q5_CuzHgJ80d",
      "metadata": {
        "id": "q5_CuzHgJ80d"
      },
      "source": [
        "## 10) Triangle Type (Right/Acute/Obtuse)\n",
        "**Input:** positive integers `a, b, c`.\n",
        "\n",
        "**Output:** `\"INVALID\"` if they can’t form a triangle. Otherwise `\"RIGHT\"`, `\"ACUTE\"`, or `\"OBTUSE\"`.\n",
        "Hints: Triangle inequality first. Let `s` be the largest side; compare `s^2` to the sum of squares of the other two."
      ]
    },
    {
      "cell_type": "code",
      "execution_count": null,
      "id": "67QCz_c8J80d",
      "metadata": {
        "id": "67QCz_c8J80d"
      },
      "outputs": [],
      "source": [
        "def triangle_type(a: int, b: int, c: int) -> str:\n",
        "    \"\"\"Classify triangle as INVALID/RIGHT/ACUTE/OBTUSE using only if/elif/else.\"\"\"\n",
        "    # TODO: pick largest side with if/else, apply triangle inequality, compare squares.\n",
        "    answer = \"\"  # Dummy variable\n",
        "    return answer"
      ]
    },
    {
      "cell_type": "code",
      "execution_count": null,
      "id": "5BOV0gobJ80d",
      "metadata": {
        "id": "5BOV0gobJ80d"
      },
      "outputs": [],
      "source": [
        "#@title ✅ Tests: Triangle Type\n",
        "def _ae(a, b): assert a == b, f\"Expected {b}, got {a}\"\n",
        "_ae(triangle_type(1, 2, 3), \"INVALID\")\n",
        "_ae(triangle_type(3, 4, 5), \"RIGHT\")\n",
        "_ae(triangle_type(2, 2, 2), \"ACUTE\")\n",
        "_ae(triangle_type(2, 2, 3), \"OBTUSE\")\n",
        "_ae(triangle_type(5, 12, 13), \"RIGHT\")\n",
        "print(\"OK\")\n"
      ]
    },
    {
      "cell_type": "markdown",
      "id": "748aeb9c",
      "metadata": {
        "id": "748aeb9c"
      },
      "source": [
        "# Problem: *(Final)*\n",
        "\n",
        "**Goal.** Implement `is_even_leaves(n: int, k: int) -> bool`.\n",
        "\n",
        "In year **i**, the tree grows $i^i$ new leaves (year 1 has $1^1=1$). Leaves last **k** years.\n",
        "So, the leaves present in year **n** are:\n",
        "$$ (n-k+1)^{,n-k+1} + (n-k+2)^{,n-k+2} + \\cdots + n^n. $$\n",
        "\n",
        "Return **True** if this total is **even**, otherwise **False**.\n",
        "\n",
        "\n",
        "**Examples**\n",
        "\n",
        "* `(1, 1) → False`\n",
        "* `(2, 1) → True`\n",
        "* `(2, 2) → False`\n",
        "* `(3, 2) → False`\n",
        "* `(4, 4) → True`\n"
      ]
    },
    {
      "cell_type": "code",
      "execution_count": 1,
      "id": "197c9473",
      "metadata": {
        "id": "197c9473"
      },
      "outputs": [],
      "source": [
        "def is_even_leaves(n: int, k: int) -> bool:\n",
        "    \"\"\"\n",
        "    Return True if the number of leaves present in year n is even; else False.\n",
        "    Present leaves are: (n-k+1)^(n-k+1) + ... + n^n.\n",
        "    \"\"\"\n",
        "    return True\n"
      ]
    },
    {
      "cell_type": "code",
      "execution_count": 3,
      "id": "04e077f3",
      "metadata": {
        "colab": {
          "base_uri": "https://localhost:8080/",
          "height": 332
        },
        "id": "04e077f3",
        "outputId": "214878bf-7485-4aa6-b586-ed55e009c8d1"
      },
      "outputs": [
        {
          "output_type": "error",
          "ename": "AssertionError",
          "evalue": "Expected False, got True",
          "traceback": [
            "\u001b[0;31m---------------------------------------------------------------------------\u001b[0m",
            "\u001b[0;31mAssertionError\u001b[0m                            Traceback (most recent call last)",
            "\u001b[0;32m/tmp/ipython-input-1378852680.py\u001b[0m in \u001b[0;36m<cell line: 0>\u001b[0;34m()\u001b[0m\n\u001b[1;32m      3\u001b[0m     \u001b[0;32massert\u001b[0m \u001b[0ma\u001b[0m \u001b[0;34m==\u001b[0m \u001b[0mb\u001b[0m\u001b[0;34m,\u001b[0m \u001b[0;34mf\"Expected {b}, got {a}\"\u001b[0m\u001b[0;34m\u001b[0m\u001b[0;34m\u001b[0m\u001b[0m\n\u001b[1;32m      4\u001b[0m \u001b[0;34m\u001b[0m\u001b[0m\n\u001b[0;32m----> 5\u001b[0;31m \u001b[0m_ae\u001b[0m\u001b[0;34m(\u001b[0m\u001b[0mis_even_leaves\u001b[0m\u001b[0;34m(\u001b[0m\u001b[0;36m1\u001b[0m\u001b[0;34m,\u001b[0m \u001b[0;36m1\u001b[0m\u001b[0;34m)\u001b[0m\u001b[0;34m,\u001b[0m \u001b[0;32mFalse\u001b[0m\u001b[0;34m)\u001b[0m  \u001b[0;31m# 1^1 -> odd\u001b[0m\u001b[0;34m\u001b[0m\u001b[0;34m\u001b[0m\u001b[0m\n\u001b[0m\u001b[1;32m      6\u001b[0m \u001b[0m_ae\u001b[0m\u001b[0;34m(\u001b[0m\u001b[0mis_even_leaves\u001b[0m\u001b[0;34m(\u001b[0m\u001b[0;36m2\u001b[0m\u001b[0;34m,\u001b[0m \u001b[0;36m1\u001b[0m\u001b[0;34m)\u001b[0m\u001b[0;34m,\u001b[0m \u001b[0;32mTrue\u001b[0m\u001b[0;34m)\u001b[0m   \u001b[0;31m# 2^2 -> even\u001b[0m\u001b[0;34m\u001b[0m\u001b[0;34m\u001b[0m\u001b[0m\n\u001b[1;32m      7\u001b[0m \u001b[0m_ae\u001b[0m\u001b[0;34m(\u001b[0m\u001b[0mis_even_leaves\u001b[0m\u001b[0;34m(\u001b[0m\u001b[0;36m2\u001b[0m\u001b[0;34m,\u001b[0m \u001b[0;36m2\u001b[0m\u001b[0;34m)\u001b[0m\u001b[0;34m,\u001b[0m \u001b[0;32mFalse\u001b[0m\u001b[0;34m)\u001b[0m  \u001b[0;31m# 1^1 + 2^2 -> odd + even = odd\u001b[0m\u001b[0;34m\u001b[0m\u001b[0;34m\u001b[0m\u001b[0m\n",
            "\u001b[0;32m/tmp/ipython-input-1378852680.py\u001b[0m in \u001b[0;36m_ae\u001b[0;34m(a, b)\u001b[0m\n\u001b[1;32m      1\u001b[0m \u001b[0;31m#@title ✅ Tests: Robin Hood and the Major Oak\u001b[0m\u001b[0;34m\u001b[0m\u001b[0;34m\u001b[0m\u001b[0m\n\u001b[1;32m      2\u001b[0m \u001b[0;32mdef\u001b[0m \u001b[0m_ae\u001b[0m\u001b[0;34m(\u001b[0m\u001b[0ma\u001b[0m\u001b[0;34m,\u001b[0m \u001b[0mb\u001b[0m\u001b[0;34m)\u001b[0m\u001b[0;34m:\u001b[0m\u001b[0;34m\u001b[0m\u001b[0;34m\u001b[0m\u001b[0m\n\u001b[0;32m----> 3\u001b[0;31m     \u001b[0;32massert\u001b[0m \u001b[0ma\u001b[0m \u001b[0;34m==\u001b[0m \u001b[0mb\u001b[0m\u001b[0;34m,\u001b[0m \u001b[0;34mf\"Expected {b}, got {a}\"\u001b[0m\u001b[0;34m\u001b[0m\u001b[0;34m\u001b[0m\u001b[0m\n\u001b[0m\u001b[1;32m      4\u001b[0m \u001b[0;34m\u001b[0m\u001b[0m\n\u001b[1;32m      5\u001b[0m \u001b[0m_ae\u001b[0m\u001b[0;34m(\u001b[0m\u001b[0mis_even_leaves\u001b[0m\u001b[0;34m(\u001b[0m\u001b[0;36m1\u001b[0m\u001b[0;34m,\u001b[0m \u001b[0;36m1\u001b[0m\u001b[0;34m)\u001b[0m\u001b[0;34m,\u001b[0m \u001b[0;32mFalse\u001b[0m\u001b[0;34m)\u001b[0m  \u001b[0;31m# 1^1 -> odd\u001b[0m\u001b[0;34m\u001b[0m\u001b[0;34m\u001b[0m\u001b[0m\n",
            "\u001b[0;31mAssertionError\u001b[0m: Expected False, got True"
          ]
        }
      ],
      "source": [
        "#@title ✅ Tests: Robin Hood and the Major Oak\n",
        "def _ae(a, b):\n",
        "    assert a == b, f\"Expected {b}, got {a}\"\n",
        "\n",
        "_ae(is_even_leaves(1, 1), False)  # 1^1 -> odd\n",
        "_ae(is_even_leaves(2, 1), True)   # 2^2 -> even\n",
        "_ae(is_even_leaves(2, 2), False)  # 1^1 + 2^2 -> odd + even = odd\n",
        "_ae(is_even_leaves(3, 2), False)  # 2^2 + 3^3 -> even + odd = odd\n",
        "_ae(is_even_leaves(4, 4), True)   # (1^1 + 2^2 + 3^3 + 4^4): two odds -> even\n",
        "_ae(is_even_leaves(10, 2), False)    # {9^9, 10^10} -> odd + even = odd\n",
        "_ae(is_even_leaves(10, 4), True)     # {7^7, 8^8, 9^9, 10^10}\n",
        "_ae(is_even_leaves(5, 1), False)\n",
        "_ae(is_even_leaves(6, 1), True)\n",
        "_ae(is_even_leaves(7, 3), True)\n",
        "_ae(is_even_leaves(8, 3), False)\n",
        "\n",
        "print(\"OK\")"
      ]
    }
  ],
  "metadata": {
    "colab": {
      "provenance": []
    },
    "kernelspec": {
      "display_name": "Python 3",
      "name": "python3"
    },
    "language_info": {
      "name": "python",
      "version": "3.x"
    }
  },
  "nbformat": 4,
  "nbformat_minor": 5
}