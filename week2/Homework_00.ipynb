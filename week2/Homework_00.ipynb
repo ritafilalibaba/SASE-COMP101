{
 "cells": [
  {
   "cell_type": "markdown",
   "metadata": {
    "id": "b34d3acf"
   },
   "source": [
    "# Week 2: Introduction to Python\n",
    "\n",
    "This notebook covers the fundamental concepts of Python programming, including how to run Python code, basic data types, variables, operators, strings, booleans, input/output, comments, and reading errors, as well as some exercices that you should be able to do."
   ]
  },
  {
   "cell_type": "markdown",
   "metadata": {
    "id": "89677219"
   },
   "source": [
    "## Values & types\n",
    "\n",
    "Python has several built-in data types:\n",
    "\n",
    "*   **Numbers:** Integers (`int`), floating-point numbers (`float`), complex numbers (`complex`).\n",
    "*   **Strings:** Sequences of characters (`str`).\n",
    "*   **Booleans:** Truth values (`True` or `False`).\n",
    "\n",
    "Literals are fixed values written directly in the code (e.g., `5`, `\"hello\"`), while runtime values are determined during program execution."
   ]
  },
  {
   "cell_type": "code",
   "execution_count": null,
   "metadata": {
    "id": "1d6e1edc"
   },
   "outputs": [],
   "source": [
    "# Examples of values and types\n",
    "print(type(10))\n",
    "print(type(3.14))\n",
    "print(type(\"Hello, world!\"))\n",
    "print(type(True))"
   ]
  },
  {
   "cell_type": "markdown",
   "metadata": {
    "id": "JXan5P_OpmdF"
   },
   "source": [
    "### Exercices:"
   ]
  },
  {
   "cell_type": "code",
   "execution_count": null,
   "metadata": {
    "id": "jKeX7o9Bpw2d"
   },
   "outputs": [],
   "source": [
    "# Print your name in this cell.\n",
    "# YOUR CODE HERE\n"
   ]
  },
  {
   "cell_type": "code",
   "execution_count": null,
   "metadata": {
    "id": "inGqhZEop0X0"
   },
   "outputs": [],
   "source": [
    "# Print the type of your favorite number\n",
    "# YOUR CODE HERE\n"
   ]
  },
  {
   "cell_type": "code",
   "execution_count": null,
   "metadata": {
    "id": "BrkTFbpyqHcy"
   },
   "outputs": [],
   "source": [
    "# Print the type of your favorite dish\n",
    "# YOUR CODE HERE\n"
   ]
  },
  {
   "cell_type": "code",
   "execution_count": null,
   "metadata": {
    "id": "H65Z5lC0qjdM"
   },
   "outputs": [],
   "source": [
    "# Print how tall are you, as well as the type of that value\n",
    "# YOUR CODE HERE\n"
   ]
  },
  {
   "cell_type": "code",
   "execution_count": null,
   "metadata": {},
   "outputs": [],
   "source": [
    "# Print whether you like programming, and next to it the type of that value\n",
    "# YOUR CODE HERE\n"
   ]
  },
  {
   "cell_type": "code",
   "execution_count": null,
   "metadata": {},
   "outputs": [],
   "source": [
    "# Given the text \"5\", print the type name before and after converting to int.\n",
    "# YOUR CODE HERE\n"
   ]
  },
  {
   "cell_type": "code",
   "execution_count": null,
   "metadata": {
    "id": "kFX3rTcUNxN1"
   },
   "outputs": [],
   "source": [
    "# Fill the TODOs. All asserts should pass.\n",
    "\n",
    "# 2.1: Make x_int an int equal to 100\n",
    "x_int =          # TODO\n",
    "\n",
    "# 2.2: Make x_float a float equal to 2.5\n",
    "x_float =        # TODO\n",
    "\n",
    "# 2.3: Make x_str the string 'Python'\n",
    "x_str =          # TODO\n",
    "\n",
    "# 2.4: Make x_bool the boolean False\n",
    "x_bool =         # TODO\n",
    "\n",
    "# 2.5: Convert the string '123' to an int, add 7, store to x_num\n",
    "x_num =          # TODO\n",
    "\n",
    "# 2.6: What is the type of 3/2 ? What about 3//2 ?\n",
    "type_div =       # TODO\n",
    "type_floordiv =  # TODO\n",
    "\n",
    "# 2.7: Create x_runtime by reading type of x_str at runtime\n",
    "x_runtime =      # TODO\n",
    "\n",
    "# 2.8: Make x_truthy a value that is truthy, and x_falsy a value that is falsy (but not bools)\n",
    "x_truthy =       # TODO\n",
    "x_falsy =        # TODO"
   ]
  },
  {
   "cell_type": "code",
   "execution_count": null,
   "metadata": {
    "id": "X_tZI7WrNzHt"
   },
   "outputs": [],
   "source": [
    "# DO NOT CHANGE THIS CODE, RUN IT AND MAKE SURE IT PASSES ALL ASSERTS\n",
    "assert isinstance(x_int, int) and x_int == 100\n",
    "assert isinstance(x_float, float) and abs(x_float - 2.5) < 1e-9\n",
    "assert isinstance(x_str, str) and x_str == \"Python\"\n",
    "assert isinstance(x_bool, bool) and x_bool is False\n",
    "assert x_num == 130\n",
    "assert type_div.__name__ in {\"float\"}  # in Python 3, / returns float\n",
    "assert type_floordiv.__name__ in {\"int\"}\n",
    "assert x_runtime is str\n",
    "assert x_truthy and (not x_falsy)"
   ]
  },
  {
   "cell_type": "markdown",
   "metadata": {
    "id": "c36d0bb1"
   },
   "source": [
    "## Variables & names\n",
    "\n",
    "Variables are used to store data. They are assigned using the `=` operator. Variable names must follow certain rules and conventions (e.g., start with a letter or underscore, use lowercase for variables). Scope refers to the region of the code where a variable is accessible."
   ]
  },
  {
   "cell_type": "code",
   "execution_count": null,
   "metadata": {
    "id": "85fa0c31"
   },
   "outputs": [],
   "source": [
    "# Variable assignment\n",
    "my_integer = 10\n",
    "my_string = \"Python\"\n",
    "my_boolean = False\n",
    "\n",
    "# print(my_integer)\n",
    "# print(my_string)\n",
    "# print(my_boolean)"
   ]
  },
  {
   "cell_type": "markdown",
   "metadata": {
    "id": "upUakQ19rE5A"
   },
   "source": [
    "### Exercices:"
   ]
  },
  {
   "cell_type": "code",
   "execution_count": null,
   "metadata": {
    "id": "RmYacZ6NrJJH"
   },
   "outputs": [],
   "source": [
    "# Create a variable, and set your name in it. Then, print the value, and print the type of the value\n",
    "# YOUR CODE HERE\n"
   ]
  },
  {
   "cell_type": "code",
   "execution_count": null,
   "metadata": {
    "id": "dsuT6vfXsT6B"
   },
   "outputs": [],
   "source": [
    "# Create and assign the favorite_food variable to hold your own favorite food, then print the variable.\n",
    "# YOUR CODE HERE\n"
   ]
  },
  {
   "cell_type": "code",
   "execution_count": null,
   "metadata": {
    "id": "URS88L3ftG22"
   },
   "outputs": [],
   "source": [
    "# Create and assign the variable favorite_number to hold your own favorite number.\n",
    "# YOUR CODE HERE\n"
   ]
  },
  {
   "cell_type": "code",
   "execution_count": null,
   "metadata": {
    "id": "SOH79dSBtOna"
   },
   "outputs": [],
   "source": [
    "# Reassign the favorite_food variable to hold the number 7.\n",
    "# YOUR CODE HERE\n",
    "\n",
    "# What happens and why? Does this match your expectations?"
   ]
  },
  {
   "cell_type": "code",
   "execution_count": null,
   "metadata": {},
   "outputs": [],
   "source": [
    "# Print a value that is truthy (but not True) and a value that is falsy (but not False),\n",
    "# one per line.\n",
    "# Expected output example (your exact truthy/falsy may differ but should print visibly):\n",
    "# \n",
    "# YOUR CODE HERE\n"
   ]
  },
  {
   "cell_type": "code",
   "execution_count": null,
   "metadata": {
    "id": "Ocf_PrM1PURg"
   },
   "outputs": [],
   "source": [
    "# Exercises — fill TODOs and pass the checks.\n",
    "\n",
    "# 3.1: Create variables 'width' and 'height' with 7 and 3, compute 'area'.\n",
    "width =     # TODO\n",
    "height =    # TODO\n",
    "area =      # TODO\n",
    "\n",
    "# 3.2: Rename bad variable names to PEP 8 style (do the binding)\n",
    "numStudents = 25  # given (bad style)\n",
    "                  # TODO: PEP8 name\n",
    "\n",
    "# 3.3: Swap a and b so that after swapping: a==2, b==1\n",
    "a, b = 1, 2\n",
    "a, b =      # TODO\n",
    "\n",
    "# 3.4: Multiple assignment:\n",
    "x = y = z =   # TODO"
   ]
  },
  {
   "cell_type": "code",
   "execution_count": null,
   "metadata": {
    "id": "pYfkaXhSPwVQ"
   },
   "outputs": [],
   "source": [
    "# DO NOT CHANGE THIS CODE, RUN IT AND MAKE SURE IT PASSES ALL ASSERTS\n",
    "assert area == 21\n",
    "assert a == 2 and b == 1\n",
    "assert x == y == z == 42"
   ]
  },
  {
   "cell_type": "markdown",
   "metadata": {
    "id": "1fb56fbd"
   },
   "source": [
    "## Numbers operations\n",
    "\n",
    "Python supports various arithmetic and bitwise operations on numbers."
   ]
  },
  {
   "cell_type": "code",
   "execution_count": null,
   "metadata": {
    "id": "dfee79cb"
   },
   "outputs": [],
   "source": [
    "# Arithmetic operations\n",
    "a = 30\n",
    "b = 3\n",
    "print(a + b)\n",
    "print(a - b)\n",
    "print(a * b)\n",
    "print(a / b)\n",
    "print(a // b)\n",
    "print(a % b)\n",
    "\n",
    "# Bitwise operations\n",
    "x = 5 # 0101 in binary\n",
    "y = 3 # 0011 in binary\n",
    "print(x | y) # Bitwise OR\n",
    "print(x & y) # Bitwise AND\n",
    "print(x ^ y) # Bitwise XOR\n",
    "print(~x)  # Bitwise NOT\n",
    "print(x << 1) # Left shift\n",
    "print(x >> 1) # Right shift"
   ]
  },
  {
   "cell_type": "markdown",
   "metadata": {
    "id": "fdd-KGllj3-j"
   },
   "source": [
    "### Exercices:"
   ]
  },
  {
   "cell_type": "code",
   "execution_count": null,
   "metadata": {
    "id": "h0mT_s3vvWqG"
   },
   "outputs": [],
   "source": [
    "# Multiply 3.4 by 8.2. What's the data-type that this returns?\n",
    "# YOUR CODE HERE\n"
   ]
  },
  {
   "cell_type": "code",
   "execution_count": null,
   "metadata": {
    "id": "lPhpkN13ppjN"
   },
   "outputs": [],
   "source": [
    "# Give the reminder of dividing 5 by 2\n",
    "# YOUR CODE HERE\n"
   ]
  },
  {
   "cell_type": "code",
   "execution_count": null,
   "metadata": {
    "id": "MvHOekXZqQul"
   },
   "outputs": [],
   "source": [
    "# Use the exponent operator to raise 123 to the 0th power\n",
    "# YOUR CODE HERE\n"
   ]
  },
  {
   "cell_type": "code",
   "execution_count": null,
   "metadata": {
    "id": "isCRZebgqvmy"
   },
   "outputs": [],
   "source": [
    "# Give the integer result of dividing 5 by 2\n",
    "# YOUR CODE HERE\n"
   ]
  },
  {
   "cell_type": "code",
   "execution_count": null,
   "metadata": {},
   "outputs": [],
   "source": [
    "# Let n=57. Using bitwise '&', print True if n is odd, else False.\n",
    "# YOUR CODE HERE\n"
   ]
  },
  {
   "cell_type": "code",
   "execution_count": null,
   "metadata": {
    "id": "gS9XXx6Lq6gf"
   },
   "outputs": [],
   "source": [
    "# 4.1: Integer division and modulo\n",
    "div_1 =             # TODO -> should get a a result of 5\n",
    "mod_1 =             # TODO -> should get a result of 2\n",
    "\n",
    "# 4.2: Power and order of operations\n",
    "pow_1 =             # TODO -> should get a result of 32\n",
    "expr_1 =            # TODO -> should get a resulst of 14\n",
    "\n",
    "# 4.3: Parity: is_odd should be True if n is odd using bitwise &\n",
    "n = 57\n",
    "is_odd =            # TODO\n",
    "\n",
    "# 4.4: Masking: take low 3 bits of q\n",
    "q = 0b101101  # 45\n",
    "low3 =              # TODO -> 0b101 (5)\n",
    "\n",
    "# 4.5: Set the 2nd bit (value 0b010) of base without changing others\n",
    "base = 0b1001\n",
    "with_second_bit =   # TODO\n",
    "\n",
    "# 4.6: Toggle the lowest bit of t (use xor)\n",
    "t = 0b1110\n",
    "t_toggled =         # TODO\n",
    "\n",
    "# 4.7: Left shift multiply by 4 using <<\n",
    "u = 7\n",
    "u_times_4 =         # TODO\n",
    "\n",
    "# 4.8: Right shift divide by 2 using >>\n",
    "v = 19\n",
    "v_div_2 =           # TODO (floor division by 2)"
   ]
  },
  {
   "cell_type": "code",
   "execution_count": null,
   "metadata": {
    "id": "InAHRbN1tSuR"
   },
   "outputs": [],
   "source": [
    "# DO NOT CHANGE THIS CODE, RUN IT AND MAKE SURE IT PASSES ALL ASSERTS\n",
    "assert div_1 == 5 and mod_1 == 2\n",
    "assert pow_1 == 32 and expr_1 == 14\n",
    "assert is_odd is True\n",
    "assert low3 == 0b101\n",
    "assert with_second_bit == 0b1011\n",
    "assert t_toggled == 0b1111\n",
    "assert u_times_4 == 28 and v_div_2 == 9"
   ]
  },
  {
   "cell_type": "markdown",
   "metadata": {
    "id": "7ca892fc"
   },
   "source": [
    "## Strings\n",
    "\n",
    "Strings are sequences of characters and can be manipulated using slicing, methods, and f-strings."
   ]
  },
  {
   "cell_type": "code",
   "execution_count": null,
   "metadata": {
    "id": "e5c49dbf"
   },
   "outputs": [],
   "source": [
    "# String slicing and methods\n",
    "my_string = \"Hello, Python!\"\n",
    "print(my_string[0:5])\n",
    "print(my_string.upper())\n",
    "print(my_string.replace(\"Python\", \"World\"))\n",
    "\n",
    "# f-strings\n",
    "name = \"Alice\"\n",
    "age = 30\n",
    "print(f\"My name is {name} and I am {age} years old.\")"
   ]
  },
  {
   "cell_type": "markdown",
   "metadata": {
    "id": "I5nX1iTxuFfN"
   },
   "source": [
    "What you should be familiar with:\n",
    "\n",
    "**Slicing** `s[start:stop:step]`  \n",
    "**Useful methods**: `.lower()`, `.upper()`, `.split()`, `.join()`, `.replace()`, `.find()`, `.count()`  \n",
    "**f‑strings**: `name = \"Ada\"; f\"Hello {name}\"`\n",
    "\n",
    "\n",
    "\n"
   ]
  },
  {
   "cell_type": "markdown",
   "metadata": {
    "id": "E-Tfjtopui2H"
   },
   "source": [
    "### Exercices"
   ]
  },
  {
   "cell_type": "code",
   "execution_count": null,
   "metadata": {},
   "outputs": [],
   "source": [
    "# Print True if the sentence below is a palindrome ignoring case and non-letters/digits:\n",
    "# \"A man, a plan, a canal: Panama!\"\n",
    "# Tip: build a cleaned string with only .isalnum() characters and .lower(), then compare to its reverse.\n",
    "# YOUR CODE HERE\n"
   ]
  },
  {
   "cell_type": "code",
   "execution_count": null,
   "metadata": {
    "id": "1ZFzNJjSuEvs"
   },
   "outputs": [],
   "source": [
    "s = \"ABCDEFGHIJ\"\n",
    "\n",
    "# 5.1: First 4 characters -> 'ABCD'\n",
    "slice1 =         # TODO\n",
    "\n",
    "# 5.2: Last 3 characters -> 'HIJ'\n",
    "slice2 =         # TODO\n",
    "\n",
    "# 5.3: Every other character -> 'ACEGI'\n",
    "slice3 =         # TODO\n",
    "\n",
    "# 5.4: Reverse the string\n",
    "rev_s =          # TODO\n",
    "\n",
    "# Methods\n",
    "phrase = \"PyThOn is AwEsOmE\"\n",
    "\n",
    "# 5.5: Transform the string into uppercase to 'PYTHON IS AWESOME'\n",
    "norm_uppercase =   # TODO\n",
    "\n",
    "# 5.6: Transform the string into lowercase to 'python is awesome'\n",
    "norm_lowercase =   # TODO\n",
    "\n",
    "# 5.7: How many 'an' in 'bananana'? -> 3\n",
    "count_an =        # TODO\n",
    "\n",
    "# 5.8: Replace 'snake' with 'Python' in 'I love snake case'\n",
    "replaced =        # TODO\n",
    "\n",
    "# f‑strings\n",
    "first, last, year = \"Ada\", \"Lovelace\", 1815\n",
    "# 5.9: Make id_card -> \"Ada Lovelace (1815)\" with the help of f-string\n",
    "id_card =         # TODO\n",
    "\n",
    "# 5.10: Format pi ~= 3.14159 to two decimals -> '3.14' (use f‑string formatting)\n",
    "pi = 3.14159\n",
    "pi_two =          # TODO\n",
    "\n",
    "# 5.11: Extract username and domain from email 'user@example.com' -> 'user', 'example.com'\n",
    "email = \"user@example.com\"\n",
    "user_name =       # TODO\n",
    "domain =          # TODO\n",
    "\n",
    "# 5.12: Build CSV 'a,b,c' from list ['a','b','c'] using join\n",
    "csv =             # TODO\n",
    "\n",
    "# 5.13: Remove empty spaces at the edges of string\n",
    "s = \"    check this out          \"\n",
    "fixed_s =         # TODO"
   ]
  },
  {
   "cell_type": "code",
   "execution_count": null,
   "metadata": {
    "id": "VvO_zJ6qxQcH"
   },
   "outputs": [],
   "source": [
    "# DO NOT CHANGE THIS CODE, RUN IT AND MAKE SURE IT PASSES ALL ASSERTS\n",
    "assert slice1 == \"ABCD\"\n",
    "assert slice2 == \"HIJ\"\n",
    "assert slice3 == \"ACEGI\"\n",
    "assert rev_s == \"JIHGFEDCBA\"\n",
    "assert norm_uppercase == \"PYTHON IS AWESOME\"\n",
    "assert norm_lowercase == \"python is awesome\"\n",
    "assert count_an == 3\n",
    "assert replaced == \"I love Python case\"\n",
    "assert id_card == \"Ada Lovelace (1815)\"\n",
    "assert pi_two == \"3.14\"\n",
    "assert user_name == \"user\" and domain == \"example.com\"\n",
    "assert csv == \"a,b,c\"\n",
    "assert fixed_s == \"check this out\""
   ]
  },
  {
   "cell_type": "markdown",
   "metadata": {
    "id": "ehG0B_jDxkgX"
   },
   "source": [
    "### Reading docs effectively\n",
    "Use `help(str.split)` and skim:\n",
    "- What does `split()` return?\n",
    "- What happens if you pass a `maxsplit`?\n",
    "Write your notes in a new **markdown cell** below."
   ]
  },
  {
   "cell_type": "markdown",
   "metadata": {
    "id": "da8387ed"
   },
   "source": [
    "## Booleans & comparisons\n",
    "\n",
    "Booleans represent truth values (`True` or `False`). Comparisons return boolean values. Logical operators (`and`, `or`, `not`) combine boolean expressions."
   ]
  },
  {
   "cell_type": "code",
   "execution_count": null,
   "metadata": {
    "id": "1da5f65d"
   },
   "outputs": [],
   "source": [
    "# Comparisons\n",
    "x = 10\n",
    "y = 20\n",
    "print(x == y)\n",
    "print(x != y)\n",
    "print(x < y)\n",
    "\n",
    "# Logical operators\n",
    "p = True\n",
    "q = False\n",
    "print(p and q)\n",
    "print(p or q)\n",
    "print(not p)"
   ]
  },
  {
   "cell_type": "markdown",
   "metadata": {
    "id": "I2fISC_qyRU4"
   },
   "source": [
    "### Exercices:"
   ]
  },
  {
   "cell_type": "code",
   "execution_count": null,
   "metadata": {
    "id": "0-xWm-7QyTcC"
   },
   "outputs": [],
   "source": [
    "# 6.1: is_between: make sure to compare it between two value, one lower and one higher\n",
    "x = 15\n",
    "is_between =                 # TODO -> It should return true\n",
    "\n",
    "# 6.2: True if name starts with 'A' (case‑sensitive)\n",
    "name = \"Alice\"\n",
    "starts_with_A =              # TODO\n",
    "\n",
    "# 6.3: True if s is empty or only whitespace\n",
    "s = \"   \"\n",
    "empty_or_ws =                # TODO\n",
    "\n",
    "# 6.4: Use 'and'/'or': adult_or_student True if age >= 18 or has_student_id\n",
    "age, has_student_id = 16, True\n",
    "adult_or_student =           # TODO\n",
    "\n",
    "# 6.5: not operator: not_rain if forecast is 'rain'\n",
    "forecast = \"sun\"\n",
    "not_rain =                   # TODO\n",
    "\n",
    "# 6.6: Build is_leap_year rule (Gregorian): divisible by 4 except centuries not divisible by 400\n",
    "year = 2000\n",
    "is_leap_year =                # TODO"
   ]
  },
  {
   "cell_type": "code",
   "execution_count": null,
   "metadata": {
    "id": "TZ0vUtPvzwkK"
   },
   "outputs": [],
   "source": [
    "# DO NOT CHANGE THIS CODE, RUN IT AND MAKE SURE IT PASSES ALL ASSERTS\n",
    "assert is_between is True\n",
    "assert starts_with_A is True\n",
    "assert empty_or_ws is True\n",
    "assert adult_or_student is True\n",
    "assert not_rain is True\n",
    "assert is_leap_year is True"
   ]
  },
  {
   "cell_type": "markdown",
   "metadata": {
    "id": "b390d3be"
   },
   "source": [
    "## Input / output\n",
    "\n",
    "The `input()` function reads input from the user, and the `print()` function displays output."
   ]
  },
  {
   "cell_type": "code",
   "execution_count": null,
   "metadata": {
    "id": "bb4219e5"
   },
   "outputs": [],
   "source": [
    "# Input and output\n",
    "# user_input = input(\"Enter something: \")\n",
    "# print(\"You entered:\", user_input)\n",
    "\n",
    "print(\"Hello\", \"world\", sep=\"-\", end=\"!\\n\")"
   ]
  },
  {
   "cell_type": "markdown",
   "metadata": {
    "id": "85FmWg7hz-UM"
   },
   "source": [
    "### Exercices:"
   ]
  },
  {
   "cell_type": "code",
   "execution_count": null,
   "metadata": {
    "id": "av4jsGXy02pf"
   },
   "outputs": [],
   "source": [
    "# 7.1: Ask for user first name and last name, then greet him.\n",
    "# YOUR CODE HERE\n"
   ]
  },
  {
   "cell_type": "code",
   "execution_count": null,
   "metadata": {
    "id": "czyj9XW7z9ug"
   },
   "outputs": [],
   "source": [
    "# 7.2: Ask for two integers and print their sum (formatted \"Sum: <value>\")\n",
    "# YOUR CODE HERE\n"
   ]
  },
  {
   "cell_type": "code",
   "execution_count": null,
   "metadata": {
    "id": "LbPGbULN0PES"
   },
   "outputs": [],
   "source": [
    "# 7.3: Write a program to take three names as input from the user in a single call to the input() function.\n",
    "# YOUR CODE HERE\n"
   ]
  },
  {
   "cell_type": "code",
   "execution_count": null,
   "metadata": {},
   "outputs": [],
   "source": [
    "# 7.4: Read three integers on one line separated by spaces. \n",
    "# Print: count, sum, and average (with 2 decimals) in three lines."
   ]
  },
  {
   "cell_type": "code",
   "execution_count": null,
   "metadata": {
    "id": "abCbWD0D1vNy"
   },
   "outputs": [],
   "source": [
    "# 7.5: Without input, prepare formatting examples.\n",
    "\n",
    "# Format temperature with 1 decimal: \"Temp: 21.5 C\"\n",
    "temp = 21.49\n",
    "fmt_temp =                     # TODO\n",
    "\n",
    "# Align and width: name right‑align in width 10 -> '     Bob'\n",
    "name = \"Bob\"\n",
    "right_aligned =                # TODO\n",
    "\n",
    "# Pad number with zeros width=5 -> '00042'\n",
    "num = 42\n",
    "zero_padded =                  # TODO"
   ]
  },
  {
   "cell_type": "code",
   "execution_count": null,
   "metadata": {
    "id": "VsTYQyOC2RHB"
   },
   "outputs": [],
   "source": [
    "# DO NOT CHANGE THIS CODE, RUN IT AND MAKE SURE IT PASSES ALL ASSERTS\n",
    "assert fmt_temp == \"Temp: 21.5 C\"\n",
    "assert right_aligned.endswith(\"Bob\") and len(right_aligned) == 10\n",
    "assert zero_padded == \"00042\""
   ]
  },
  {
   "cell_type": "markdown",
   "metadata": {
    "id": "a3f9141a"
   },
   "source": [
    "## Comments & style\n",
    "\n",
    "Comments are used to explain code. Python uses `#` for single-line comments. PEP 8 is a style guide for Python code that promotes readability and consistency."
   ]
  },
  {
   "cell_type": "code",
   "execution_count": null,
   "metadata": {
    "id": "8dc74664"
   },
   "outputs": [],
   "source": [
    "# This is a comment\n",
    "\n",
    "def my_function():\n",
    "  \"\"\"This is a docstring for a function.\"\"\"\n",
    "  pass"
   ]
  },
  {
   "cell_type": "markdown",
   "metadata": {
    "id": "Uf_QLeKVXlxg"
   },
   "source": [
    "### Exercices:"
   ]
  },
  {
   "cell_type": "code",
   "execution_count": null,
   "metadata": {
    "id": "nXd_ys65Xn13"
   },
   "outputs": [],
   "source": [
    "# Make sure to write a program that respects the PEP 8 style guide\n",
    "#-----------------------------\n",
    "# A shopkeeper decides to start selling milk for a price of 5 dhs, and he bought a quantity of 140 bottles for a price of 4 dhs each.\n",
    "# How much money did he earn from selling 92% of the quantity?\n",
    "\n",
    "# TODO: Calculate the number of bottles sold (92% of 140)\n",
    "# TODO: Calculate the total earnings from selling the bottles\n",
    "# TODO: Print the total earnings"
   ]
  },
  {
   "cell_type": "code",
   "execution_count": null,
   "metadata": {
    "id": "dgdblOZhaaQZ"
   },
   "outputs": [],
   "source": [
    "# Based on what shopkeeper earned earlier, how much profit did he make?\n",
    "# YOUR CODE HERE\n"
   ]
  },
  {
   "cell_type": "markdown",
   "metadata": {
    "id": "d4d388c3"
   },
   "source": [
    "## Reading errors\n",
    "\n",
    "Tracebacks provide information about errors that occur during program execution, including the file name, line number, and error type."
   ]
  },
  {
   "cell_type": "markdown",
   "metadata": {
    "id": "ZQwdq2yTeAKo"
   },
   "source": [
    "### Exercices:"
   ]
  },
  {
   "cell_type": "code",
   "execution_count": null,
   "metadata": {
    "id": "53cd16d9"
   },
   "outputs": [],
   "source": [
    "# Give an example of where you will get an `NameError` error:\n",
    "# YOUR CODE HERE\n"
   ]
  },
  {
   "cell_type": "code",
   "execution_count": null,
   "metadata": {
    "id": "s4ySqDKweCIj"
   },
   "outputs": [],
   "source": [
    "# Give an example when you will get an `TypeError` error:\n",
    "# YOUR CODE HERE\n"
   ]
  },
  {
   "cell_type": "code",
   "execution_count": null,
   "metadata": {
    "id": "yshDwxZgeemK"
   },
   "outputs": [],
   "source": [
    "# Give an example when you will get an `ZeroDivisionError` error:\n",
    "# YOUR CODE HERE\n"
   ]
  },
  {
   "cell_type": "markdown",
   "metadata": {
    "id": "IpdTWaigfDt8"
   },
   "source": [
    "\n",
    "\n",
    "------\n",
    "\n"
   ]
  },
  {
   "cell_type": "markdown",
   "metadata": {
    "id": "eDf-XK75e-DS"
   },
   "source": [
    "## Bonus:"
   ]
  },
  {
   "cell_type": "code",
   "execution_count": null,
   "metadata": {
    "id": "8oayLFlvfHBB"
   },
   "outputs": [],
   "source": [
    "# This exercise will test your understanding of variables, data types, operators, strings, booleans, input/output, and comments.\n",
    "\n",
    "# 1. Use input() to ask the user for their first name, last name, and age. Store these in appropriate variables.\n",
    "#    Make sure to convert the age to an integer.\n",
    "# TODO: Get user input\n",
    "\n",
    "# 2. Create a boolean variable called 'is_adult' that is True if the user's age is 18 or older, and False otherwise.\n",
    "# TODO: Determine if the user is an adult\n",
    "# YOUR CODE HERE\n",
    "\n",
    "# 3. Create a string variable called 'full_name' by combining the first and last names using an f-string.\n",
    "# TODO: Create full name\n",
    "# YOUR CODE HERE\n",
    "\n",
    "# 4. Use an f-string to print a message to the user.\n",
    "#    If the user is an adult, the message should say: \"Hello, [full name]! You are [age] years old and an adult.\"\n",
    "#    If the user is not an adult, the message should say: \"Hello, [full name]! You are [age] years old and not yet an adult.\"\n",
    "# TODO: Print personalized greeting\n",
    "# YOUR CODE HERE\n",
    "\n",
    "# 5. Use arithmetic operators to calculate the user's age in dog years (assume 1 human year = 7 dog years). Store this in a variable called 'dog_years'.\n",
    "# TODO: Calculate age in dog years\n",
    "# YOUR CODE HERE\n",
    "\n",
    "# 6. Print the user's age in dog years using a formatted string (you can choose the formatting).\n",
    "# TODO: Print age in dog years\n",
    "# YOUR CODE HERE\n",
    "\n",
    "# 7. Add comments to your code to explain each step.\n",
    "# TODO: Add comments\n",
    "# YOUR CODE HERE\n",
    "\n",
    "# 8. (Optional Challenge) Ask the user for their favorite number and perform a bitwise operation on it (e.g., left shift by 2). Print the result.\n",
    "# TODO: Optional - bitwise operation\n",
    "# YOUR CODE HERE\n"
   ]
  },
  {
   "cell_type": "code",
   "execution_count": null,
   "metadata": {
    "id": "1488d55e"
   },
   "outputs": [],
   "source": [
    "# This problem involves taking user input, manipulating strings, and performing a simple calculation.\n",
    "\n",
    "# 1. Ask the user to enter a sentence.\n",
    "# TODO: Get sentence input\n",
    "# YOUR CODE HERE\n",
    "\n",
    "# 2. Count the number of words in the sentence. Assume words are separated by spaces.\n",
    "# TODO: Count words\n",
    "# YOUR CODE HERE\n",
    "\n",
    "# 3. Ask the user for a single character.\n",
    "# TODO: Get character input\n",
    "# YOUR CODE HERE\n",
    "\n",
    "# 4. Count how many times that character appears in the sentence (case-insensitive).\n",
    "# TODO: Count character occurrences\n",
    "# YOUR CODE HERE\n",
    "\n",
    "# 5. Print the number of words and the character count in a formatted string.\n",
    "# TODO: Print results\n",
    "# YOUR CODE HERE\n"
   ]
  },
  {
   "cell_type": "code",
   "execution_count": null,
   "metadata": {
    "id": "caa3723d"
   },
   "outputs": [],
   "source": [
    "# This problem requires you to combine multiple concepts from the lecture, including:\n",
    "# - Input/output\n",
    "# - Variables and data types (integers, strings, booleans)\n",
    "# - String methods and formatting\n",
    "# - Comparisons and boolean logic\n",
    "# - Potentially arithmetic or bitwise operations\n",
    "\n",
    "# Scenario: You are writing a program to validate user input for a simple online form.\n",
    "\n",
    "# 1. Ask the user for their email address.\n",
    "# TODO: Get email input\n",
    "# YOUR CODE HERE\n",
    "\n",
    "# 2. Validate the email address:\n",
    "#    - It must contain exactly one '@' symbol.\n",
    "#    - It must contain at least one '.' after the '@' symbol.\n",
    "#    - It cannot start or end with '@' or '.'.\n",
    "#    - Use boolean variables to store the results of each validation step.\n",
    "# TODO: Validate email\n",
    "# YOUR CODE HERE\n",
    "\n",
    "# 3. Ask the user for a password.\n",
    "# TODO: Get password input\n",
    "# YOUR CODE HERE\n",
    "\n",
    "# 4. Validate the password:\n",
    "#    - It must be at least 8 characters long.\n",
    "#    - It must contain at least one uppercase letter, one lowercase letter, and one digit.\n",
    "#    - Use boolean variables for each validation step.\n",
    "# TODO: Validate password\n",
    "# YOUR CODE HERE\n",
    "\n",
    "# 5. Based on the validation results, print a message indicating whether the email and password are valid.\n",
    "#    - If both are valid, print: \"Registration successful!\"\n",
    "#    - If only the email is invalid, print: \"Invalid email address.\"\n",
    "#    - If only the password is invalid, print: \"Invalid password.\"\n",
    "#    - If both are invalid, print: \"Invalid email address and password.\"\n",
    "#    - Use boolean logic (and, or, not) to determine the appropriate message.\n",
    "# TODO: Print validation result\n",
    "# YOUR CODE HERE\n",
    "\n",
    "# 6. (Optional Challenge) Add more password validation rules (e.g., no common passwords, no repeating characters).\n",
    "# TODO: Optional - more password rules\n",
    "# YOUR CODE HERE\n"
   ]
  }
 ],
 "metadata": {
  "colab": {
   "provenance": []
  },
  "kernelspec": {
   "display_name": "Python 3",
   "name": "python3"
  },
  "language_info": {
   "name": "python"
  }
 },
 "nbformat": 4,
 "nbformat_minor": 0
}
