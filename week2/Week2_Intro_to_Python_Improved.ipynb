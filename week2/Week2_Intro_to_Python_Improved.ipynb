{
 "cells": [
  {
   "cell_type": "markdown",
   "id": "41f7385e",
   "metadata": {},
   "source": [
    "\n",
    "# Week 2 — Introduction to Python\n",
    "\n",
    "This notebook follows a question‑driven plan for our Week 2 lecture. Each section answers the questions in the syllabus with explanations and examples. At the end of each section you'll find a multiple‑choice question (MCQ) to test your understanding. Answers can be checked in class using the VoteApp (replace the placeholder cell with your QR code).\n"
   ]
  },
  {
   "cell_type": "code",
   "execution_count": 2,
   "id": "bdf57e95-c823-47ce-95a3-108d12aa8e57",
   "metadata": {
    "jupyter": {
     "source_hidden": true
    }
   },
   "outputs": [
    {
     "data": {
      "text/html": [
       "\n",
       "<style>\n",
       "h1 { color: #2a5599; }\n",
       "h2 { color: #3d6ec9; margin-top: 1.5em; }\n",
       "h3 { color: #5078b5; }\n",
       "div.mcq {\n",
       "    background-color: #f5f7fb;\n",
       "    border-left: 4px solid #7da5d8;\n",
       "    padding: 40px;         /* generous padding so others can’t peek */\n",
       "    margin: 15px 0;\n",
       "    border-radius: 5px;\n",
       "    display: flex;\n",
       "    align-items: center;\n",
       "}\n",
       "div.mcq img {\n",
       "    width: 120px; height: 120px;\n",
       "    margin-right: 20px;\n",
       "}\n",
       "div.mcq .mcq-content {\n",
       "    font-size: 14px;\n",
       "}\n",
       "div.mcq .mcq-url {\n",
       "    font-size: 12px;\n",
       "    color: #555;\n",
       "    margin-top: 10px;\n",
       "}\n",
       "</style>\n"
      ],
      "text/plain": [
       "<IPython.core.display.HTML object>"
      ]
     },
     "execution_count": 2,
     "metadata": {},
     "output_type": "execute_result"
    }
   ],
   "source": [
    "from IPython.display import HTML\n",
    "HTML(\"\"\"\n",
    "<style>\n",
    "h1 { color: #2a5599; }\n",
    "h2 { color: #3d6ec9; margin-top: 1.5em; }\n",
    "h3 { color: #5078b5; }\n",
    "div.mcq {\n",
    "    background-color: #f5f7fb;\n",
    "    border-left: 4px solid #7da5d8;\n",
    "    padding: 40px;         /* generous padding so others can’t peek */\n",
    "    margin: 15px 0;\n",
    "    border-radius: 5px;\n",
    "    display: flex;\n",
    "    align-items: center;\n",
    "}\n",
    "div.mcq img {\n",
    "    width: 120px; height: 120px;\n",
    "    margin-right: 20px;\n",
    "}\n",
    "div.mcq .mcq-content {\n",
    "    font-size: 14px;\n",
    "}\n",
    "div.mcq .mcq-url {\n",
    "    font-size: 12px;\n",
    "    color: #555;\n",
    "    margin-top: 10px;\n",
    "}\n",
    "</style>\n",
    "\"\"\")\n"
   ]
  },
  {
   "cell_type": "markdown",
   "id": "f0722c8a",
   "metadata": {},
   "source": [
    "\n",
    "## 1 How do we run Python?\n",
    "\n",
    "### What is the REPL?\n",
    "The **REPL** (**Read‑Eval‑Print Loop**) is Python’s interactive shell. When you start the interpreter without giving it a script, it reads the line you type, evaluates the expression or statement, prints the result, then loops back for another line. REPLs are great for trying small pieces of code because you get immediate feedback without creating a file.\n",
    "\n",
    "### How do you start/exit the REPL and run quick checks?\n",
    "On most systems you can start the REPL by typing `python` (or `python3`) at your command prompt. A `>>>` prompt appears where you can enter expressions. To exit, type `exit()` or press `Ctrl‑D`/`Ctrl‑Z`. You can use the REPL to do quick arithmetic, test functions or explore objects with `help()` and `dir()`.\n",
    "\n",
    "### What is a Python script and how do you run `hello.py`?\n",
    "A **script** is a file with Python code (e.g. `hello.py`). Scripts are better suited for longer programs because you can save, edit and re‑run them. To run a script, use `python hello.py` in the terminal. In interactive mode you write code line by line; in script mode Python executes the file from top to bottom.\n",
    "\n",
    "### What is a Jupyter notebook and why/when use it?\n",
    "A **Jupyter notebook** is a document that contains both executable code and rich text. You can run code in small cells, see the results immediately, and add narrative explanations, equations or images. Notebooks support many languages and are widely used in data science because they make work transparent and reproducible. They’re useful when you want to mix code, prose and visualizations rather than produce a standalone script.\n",
    "\n",
    "### What are IDEs (e.g., VS Code) good for?\n",
    "An **IDE** such as Visual Studio Code is a full‑featured development environment. VS Code provides features like code completion, linting, debugging and version control integration. Linting tools catch syntax or style issues while you type, and the built‑in debugger lets you set breakpoints and step through code.\n",
    "\n",
    "### When to pick which: REPL vs notebook vs script vs IDE?\n",
    "* Use the **REPL** for quick experiments and to probe functions. It’s ideal when learning or debugging small pieces of code.\n",
    "* Use a **script** when you want to save and reuse code or share it with others. Scripts are run from the command line and behave the same every time.\n",
    "* Use a **Jupyter notebook** when you need an interactive report mixing code, results and explanations.\n",
    "* Use an **IDE** when working on larger projects. The editor, linter and debugger help you write, test and maintain code.\n",
    "\n"
   ]
  },
  {
   "cell_type": "markdown",
   "id": "f94aa7e5",
   "metadata": {},
   "source": [
    "# Quick POLL\n",
    "\n",
    "\n",
    "\n",
    "\n",
    "\n",
    "\n",
    "\n",
    "\n",
    "![Vote QR code](6j9qr6.png)\n",
    "\n",
    "## http://snapcheck-28c4.onrender.com/poll/6j9qr6"
   ]
  },
  {
   "cell_type": "markdown",
   "id": "c1637075",
   "metadata": {},
   "source": [
    "\n",
    "## 2 What are values, literals and types?\n",
    "\n",
    "### What’s a literal?\n",
    "A **literal** is a notation for representing a fixed value directly in code. Common literals include integers (`123`), floating‑point numbers (`3.14`), Booleans (`True` and `False`), strings (`'hi'` or `\"hi\"`) and the special value `None`. Each literal evaluates to a value of a particular type.\n",
    "\n",
    "### How do you check a value’s type with `type()`?\n",
    "Use the built‑in function `type(x)` to check the type of a value. For example, `type(3.14)` returns `<class 'float'>`. This is helpful when exploring unfamiliar objects or debugging.\n",
    "\n",
    "### What does dynamic typing mean in Python?\n",
    "Python uses **dynamic typing**, meaning that variables don’t have a fixed type. A name is bound to an object, and the type is determined by the object at runtime. You can assign an integer to a variable and later assign a string to the same name; the name now refers to a different object.\n"
   ]
  },
  {
   "cell_type": "code",
   "execution_count": 3,
   "id": "e6353729-c534-4b09-a907-942cf1bba76d",
   "metadata": {},
   "outputs": [],
   "source": [
    "x = 2\n",
    "type(x)\n",
    "x = 'hello'\n",
    "type(x)"
   ]
  },
  {
   "cell_type": "markdown",
   "id": "e543e81d",
   "metadata": {},
   "source": [
    "# Quick POLL\n",
    "\n",
    "\n",
    "\n",
    "\n",
    "\n",
    "\n",
    "\n",
    "\n",
    "![Vote QR code](b7o7nb.png)\n",
    "\n",
    "## http://snapcheck-28c4.onrender.com/poll/b7o7nb"
   ]
  },
  {
   "cell_type": "markdown",
   "id": "4c251857",
   "metadata": {},
   "source": [
    "\n",
    "## 3 How do variables and names work?\n",
    "\n",
    "### How do you assign (`=`, multiple assignment, `+=`)?\n",
    "In Python you assign a value to a name using `=`. For example, `a = 5` binds the name `a` to the integer object `5`. You can assign multiple names at once: `x, y = 1, 2` assigns `x` to `1` and `y` to `2`. The `+=` operator updates a variable by adding to its existing value: `total += 3` is shorthand for `total = total + 3`.\n",
    "\n",
    "### What are valid names and style conventions (snake_case)?\n",
    "Variable names may contain letters, digits and underscores, but cannot start with a digit. They are case‑sensitive and must not be Python keywords. **PEP 8** recommends descriptive names written in *snake_case* (lowercase with underscores), such as `total_count`.\n",
    "\n",
    "### Why shouldn’t you shadow built‑ins (`sum`, `input`, `str`)?\n",
    "Built‑in functions like `sum()`, `input()` and `str()` are available everywhere. Assigning your own value to a built‑in name hides the original function in that scope, which can cause confusing errors. Instead choose names that do not conflict with built‑ins."
   ]
  },
  {
   "cell_type": "markdown",
   "id": "fce20be0",
   "metadata": {},
   "source": [
    "\n",
    "## 4 How do we compute with numbers (arithmetic & bitwise)?\n",
    "\n",
    "### Which arithmetic operators exist, and what is their precedence?\n",
    "Python supports addition (`+`), subtraction (`−`), multiplication (`*`), true division (`/`), floor division (`//`), remainder/modulus (`%`) and exponentiation (`**`). Operator precedence determines the order in which expressions are evaluated. Exponentiation has the highest precedence, followed by multiplication/division, then addition/subtraction.\n",
    "\n",
    "### What’s the difference between `/` and `//`, and what does `%` compute?\n",
    "The `/` operator performs **true division** and always returns a float (e.g., `5/2` yields `2.5`). The `//` operator performs **floor division**, which rounds the result down to the nearest integer (e.g., `10//4` is `2`, `10//-4` is `-3`). The `%` operator returns the **remainder** of integer division (e.g., `10 % 3` is `1`).\n",
    "\n",
    "### Why can floats be imprecise, and when to use `round(x, n)`?\n",
    "Floating‑point numbers are represented in binary, and some decimal fractions cannot be represented exactly (e.g., `0.1 + 0.2` does not equal `0.3` exactly). Use `round(x, n)` to round a float to `n` decimal places when displaying results or comparing approximate values.\n",
    "\n",
    "### What are bitwise operators and what do they do?\n",
    "Bitwise operators work on the binary representation of integers:\n",
    "- `&` (AND) sets a bit to `1` only if both bits are `1`.\n",
    "- `|` (OR) sets a bit to `1` if either bit is `1`.\n",
    "- `^` (XOR) sets a bit to `1` if exactly one of the bits is `1`.\n",
    "- `~` (NOT) flips each bit, returning the two’s complement.\n",
    "- `<<` (left shift) moves bits left by a given number of positions, effectively multiplying by powers of two.\n",
    "- `>>` (right shift) moves bits right, effectively dividing by powers of two and discarding low bits.\n",
    "\n",
    "### How to test parity and power of two?\n",
    "To test if a number `n` is even, check the least significant bit: `(n & 1) == 0`—this expression is `True` for even numbers and `False` for odd numbers. To check if `n` is a power of two, use the expression `(n & (n − 1)) == 0`, which is `True` only when `n` has exactly one bit set.\n",
    "\n",
    "### What do left/right shifts mean for integers?\n",
    "Left shifting (`n << k`) multiplies an integer by `2^k` by moving all bits `k` places to the left. Right shifting (`n >> k`) divides an integer by `2^k` (discarding fractional parts) by moving bits to the right.\n",
    "\n"
   ]
  },
  {
   "cell_type": "markdown",
   "id": "678afe44",
   "metadata": {},
   "source": [
    "# Quick POLL\n",
    "\n",
    "\n",
    "\n",
    "\n",
    "\n",
    "\n",
    "\n",
    "\n",
    "![Vote QR code](wq7uif.png)\n",
    "\n",
    "## http://snapcheck-28c4.onrender.com/poll/wq7uif"
   ]
  },
  {
   "cell_type": "markdown",
   "id": "0fed84c4",
   "metadata": {},
   "source": [
    "\n",
    "## 5 How do we work with strings — and find documentation?\n",
    "\n",
    "### How do you write strings: quotes, escaping, raw strings?\n",
    "You can create strings with single quotes (`'hi'`) or double quotes (`\"hi\"`). To include a quote inside the same type of string, either escape it with a backslash (`'` or `\"`).\n",
    "\n",
    "### How do indexing and slicing work?\n",
    "Strings are sequences of characters. You can index a string with zero‑based indices: `s[0]` returns the first character, and `s[-1]` returns the last. Indexing outside the range raises an `IndexError`. Slicing allows you to take substrings: `s[m:n]` returns a new string from index `m` up to, but not including, `n`. Omitting the start or end uses the beginning or end of the string.\n",
    "\n",
    "### Which everyday methods matter?\n",
    "Common string methods include:\n",
    "- `.lower()` → returns a lowercase copy.\n",
    "- `.upper()` → returns an uppercase copy.\n",
    "- `.strip(chars)` → removes leading/trailing whitespace or characters.\n",
    "- `.split(sep)` → splits the string into a list on whitespace by default or on `sep`.\n",
    "\n",
    "### How do f‑strings format output?\n",
    "**F‑strings** (formatted string literals) start with `f` and allow you to embed expressions inside braces. For example:\n",
    "```python\n",
    "name = 'Bob'\n",
    "score = 93.5\n",
    "print(f'{name} scored {score:.1f}')  # → Bob scored 93.5\n",
    "```\n",
    "You can include format specifiers (e.g. `:.2f` for two decimal places).\n",
    "\n",
    "### How do you find and read docs: `help()`, `dir()`, official docs?\n",
    "Python has built‑in functions to explore objects:\n",
    "- `help(str)` shows the documentation for the `str` class and its methods.\n",
    "- `dir(str)` lists the attributes and methods of the `str` type.\n",
    "- `help(str.split)` shows the docstring for the `.split()` method. The official documentation on docs.python.org provides detailed reference material, including function signatures and examples. Reading a function signature helps you understand required and optional parameters.\n",
    "\n"
   ]
  },
  {
   "cell_type": "markdown",
   "id": "5ef39d5b",
   "metadata": {},
   "source": [
    "\n",
    "**MCQ 5:** Which string method splits a string into a list based on whitespace by default?\n",
    "\n",
    "A. `strip()`  \n",
    "B. `join()`  \n",
    "C. `split()`  \n",
    "D. `find()`\n",
    "\n",
    "(VoteApp QR — insert here)\n"
   ]
  },
  {
   "cell_type": "markdown",
   "id": "bf26164a-0ee0-4bb5-a624-c8c2f1b86ed2",
   "metadata": {},
   "source": [
    "# Quick POLL\n",
    "\n",
    "\n",
    "\n",
    "\n",
    "\n",
    "\n",
    "\n",
    "\n",
    "![Vote QR code](p1z6ag.png)\n",
    "\n",
    "## http://snapcheck-28c4.onrender.com/poll/p1z6ag"
   ]
  },
  {
   "cell_type": "markdown",
   "id": "37ff8b96",
   "metadata": {},
   "source": [
    "\n",
    "## 6 How do we reason with booleans and comparisons?\n",
    "\n",
    "### What are comparison operators?\n",
    "Comparison operators check relationships between values and return `True` or `False`. The operators are equality (`==`), inequality (`!=`), less than (`<`), less than or equal (`<=`), greater than (`>`), and greater than or equal (`>=`). Using these operators in expressions allows you to build conditions for if‑statements and loops.\n",
    "\n",
    "### How do `and`, `or`, `not` combine conditions?\n",
    "Boolean operators combine truth values:\n",
    "- `not` inverts a Boolean; `not True` is `False` and `not False` is `True`.\n",
    "- `and` returns `True` only if *both* operands are `True`. It short‑circuits: if the first operand is `False`, the second isn’t evaluated【147122604141802†L401-L404】.\n",
    "- `or` returns `True` if *either* operand is `True`. It short‑circuits: if the first operand is `True`, the second isn’t evaluated."
   ]
  },
  {
   "cell_type": "markdown",
   "id": "13255356",
   "metadata": {},
   "source": [
    "# Quick POLL\n",
    "\n",
    "\n",
    "\n",
    "\n",
    "\n",
    "\n",
    "\n",
    "\n",
    "![Vote QR code](yecazq.png)\n",
    "\n",
    "## http://snapcheck-28c4.onrender.com/poll/yecazq"
   ]
  },
  {
   "cell_type": "markdown",
   "id": "e4d3608d",
   "metadata": {},
   "source": [
    "\n",
    "## 7 How do we do input and output cleanly?\n",
    "\n",
    "### What does `input()` return, and how do you cast with `int()` / `float()`?\n",
    "The built‑in `input()` function pauses program execution and reads a line of text from the user. It always returns a **string**. To interpret numeric input, cast the result to an integer or float: `age = int(input('Age? '))` converts the string to an integer.\n",
    "\n",
    "### How do you control `print()` with `sep` and `end`?\n",
    "`print()` converts its arguments to strings and writes them separated by a space and terminated by a newline by default. You can customize the separator with the `sep` argument (e.g. `print('A','B', sep='-')` prints `A-B`). The `end` argument controls what is printed at the end; `print('Hello', end='!')` outputs `Hello!` without a newline.\n",
    "\n",
    "### How do you format results with f‑strings?\n",
    "Use f‑strings to embed variables and expressions in output and control formatting (see Section 5). For example, `f'{price:.2f}'` formats a number with two decimal places.\n"
   ]
  },
  {
   "cell_type": "markdown",
   "id": "6c6804cb",
   "metadata": {},
   "source": [
    "# Quick POLL\n",
    "\n",
    "\n",
    "\n",
    "\n",
    "\n",
    "\n",
    "\n",
    "\n",
    "![Vote QR code](yu7ox6.png)\n",
    "\n",
    "## http://snapcheck-28c4.onrender.com/poll/yu7ox6\n"
   ]
  },
  {
   "cell_type": "markdown",
   "id": "135a1a3d",
   "metadata": {},
   "source": [
    "\n",
    "## 8 How do if/elif/else conditions work?\n",
    "\n",
    "### Basic `if` statement\n",
    "An `if` statement lets you conditionally execute a block of code. The syntax is:\n",
    "```python\n",
    "if <expr>:\n",
    "    <statement>\n",
    "```\n",
    "Here `<expr>` is evaluated in a Boolean context. If it’s truthy, the indented statement (or suite of statements) runs【394709153007193†L424-L444】. The colon after the expression is required.\n",
    "\n",
    "### `else` clause\n",
    "To specify an alternative block when the condition is false, add an `else` clause:\n",
    "```python\n",
    "if <expr>:\n",
    "    <statement(s)>\n",
    "else:\n",
    "    <statement(s)>\n",
    "```\n",
    "If `<expr>` is truthy, the first suite runs; otherwise the `else` suite runs【394709153007193†L430-L444】.\n",
    "\n",
    "### `elif` clause (else‑if)\n",
    "When you have multiple mutually exclusive conditions, use one or more `elif` clauses:\n",
    "```python\n",
    "if <expr1>:\n",
    "    <statement(s)>\n",
    "elif <expr2>:\n",
    "    <statement(s)>\n",
    "elif <expr3>:\n",
    "    <statement(s)>\n",
    "else:\n",
    "    <statement(s)>\n",
    "```\n",
    "Python evaluates the conditions in order and executes the suite of the first true expression【394709153007193†L480-L496】. You can have any number of `elif` clauses; the `else` clause is optional but must appear last【394709153007193†L498-L520】.\n",
    "\n",
    "### Short‑circuit and order of evaluation\n",
    "`if`/`elif`/`else` statements use short‑circuit evaluation. Once a true condition is found, the remaining conditions are not evaluated【394709153007193†L547-L569】. This prevents side effects from later conditions from executing.\n",
    "\n",
    "```python\n",
    "# Example\n",
    "name = 'Joe'\n",
    "if name == 'Fred':\n",
    "    print('Hello Fred')\n",
    "elif name == 'Joe':\n",
    "    print('Hello Joe')\n",
    "elif name == 'Arnold':\n",
    "    print('Hello Arnold')\n",
    "else:\n",
    "    print(\"I don't know who you are!\")\n",
    "```\n",
    "In this example, `'Joe'` matches the second condition, so its suite executes and the rest are skipped【394709153007193†L480-L518】.\n",
    "\n"
   ]
  },
  {
   "cell_type": "markdown",
   "id": "c075e760-f9e2-498b-8482-4b0bd6eef50d",
   "metadata": {},
   "source": [
    "# Quick POLL\n",
    "\n",
    "\n",
    "\n",
    "\n",
    "\n",
    "\n",
    "\n",
    "\n",
    "![Vote QR code](at3d4d.png)\n",
    "\n",
    "## http://snapcheck-28c4.onrender.com/poll/at3d4d"
   ]
  },
  {
   "cell_type": "markdown",
   "id": "aef0592e-b7f0-4a75-8fae-eba786f7dc5e",
   "metadata": {},
   "source": [
    "# ----------------------------------------"
   ]
  },
  {
   "cell_type": "markdown",
   "id": "a26c4f17-78c5-40f3-bb6d-c9a8b03a6af0",
   "metadata": {},
   "source": [
    "# Spotlight time"
   ]
  },
  {
   "cell_type": "markdown",
   "id": "9a81f990-3ca1-42eb-88c1-7f093b9896e9",
   "metadata": {},
   "source": [
    "# ----------------------------------------"
   ]
  },
  {
   "cell_type": "markdown",
   "id": "f19c46f4",
   "metadata": {},
   "source": [
    "\n",
    "## 9 How do we write readable code?\n",
    "\n",
    "### How and when to add comments `#`?\n",
    "Comments begin with `#` and extend to the end of the line. Use comments to explain *why* code does something, not *what* it does.\n",
    "\n",
    "### What are the PEP 8 essentials?\n",
    "PEP 8 is the official Python style guide. Key recommendations include:\n",
    "- Use **four spaces** per indentation level; avoid tabs.\n",
    "- Limit lines to **79 characters**; break long expressions inside parentheses rather than with backslashes.\n",
    "- Put spaces around operators and after commas.\n",
    "- Use blank lines to separate functions and classes.\n"
   ]
  },
  {
   "cell_type": "markdown",
   "id": "5f0ff560",
   "metadata": {},
   "source": [
    "\n",
    "## 10 How do we read errors (tracebacks) effectively?\n",
    "\n",
    "### What do common errors mean?\n",
    "- **SyntaxError:** Raised when Python encounters invalid syntax (e.g. missing a colon).\n",
    "- **NameError:** Raised when a local or global name is not found —often due to a misspelling or referencing a variable before assignment.\n",
    "- **TypeError:** Raised when an operation or function is applied to an object of inappropriate type (e.g. adding a string to an integer).\n",
    "- **ValueError:** Raised when a function receives an argument of correct type but with an inappropriate value.\n",
    "\n",
    "### Where do you look first in a traceback?\n",
    "When Python prints a traceback, read from the bottom up. The last line shows the exception type and message. Above it are the call stack frames, showing file names and line numbers where each call occurred. Jump to the line number in your code to inspect what caused the error."
   ]
  },
  {
   "cell_type": "markdown",
   "id": "61eaf064",
   "metadata": {},
   "source": [
    "# Quick POLL\n",
    "\n",
    "\n",
    "\n",
    "\n",
    "\n",
    "\n",
    "\n",
    "\n",
    "![Vote QR code](9h0qqt.png)\n",
    "\n",
    "## http://snapcheck-28c4.onrender.com/poll/9h0qqt\n"
   ]
  },
  {
   "cell_type": "markdown",
   "id": "136d29af-354b-4a2f-9746-1af729423ad9",
   "metadata": {},
   "source": [
    "# Lecture Feedback\n",
    "\n",
    "\n",
    "\n",
    "\n",
    "\n",
    "\n",
    "\n",
    "\n",
    "![Vote QR code](6nucjn.png)\n",
    "\n",
    "## http://snapcheck-28c4.onrender.com/f/6nucjn\n"
   ]
  }
 ],
 "metadata": {
  "kernelspec": {
   "display_name": "Python 3 (ipykernel)",
   "language": "python",
   "name": "python3"
  },
  "language_info": {
   "codemirror_mode": {
    "name": "ipython",
    "version": 3
   },
   "file_extension": ".py",
   "mimetype": "text/x-python",
   "name": "python",
   "nbconvert_exporter": "python",
   "pygments_lexer": "ipython3",
   "version": "3.10.12"
  }
 },
 "nbformat": 4,
 "nbformat_minor": 5
}
